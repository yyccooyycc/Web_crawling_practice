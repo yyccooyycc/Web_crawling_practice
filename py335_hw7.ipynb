{
 "cells": [
  {
   "cell_type": "markdown",
   "metadata": {
    "id": "UTEECzPytsRU"
   },
   "source": [
    "抓取yahoo!電影的某部電影\n",
    "\n",
    "例如: https://movies.yahoo.com.tw/movieinfo_main/%E9%A6%B4%E9%BE%8D%E9%AB%98%E6%89%8B3-how-to-train-your-dragon-3-8350\n",
    "\n",
    "需要抓取的資訊如下:\n",
    "\n",
    "電影名稱 (中英)\n",
    "\n",
    "上映日期\n",
    "\n",
    "類 型\n",
    "\n",
    "片 長\n",
    "\n",
    "導 演\n",
    "\n",
    "演 員\n",
    "\n",
    "發行公司\n",
    "\n",
    "官方網站\n",
    "\n",
    "劇情介紹\n",
    "\n",
    "將擷取出來的資料存檔，檔名: 編號.txt ，以這部電影為例 存檔為7767.txt"
   ]
  },
  {
   "cell_type": "code",
   "execution_count": 1,
   "metadata": {
    "colab": {
     "base_uri": "https://localhost:8080/"
    },
    "id": "fcCKVXurtuke",
    "outputId": "5cd7279c-c43a-4766-b7b8-8357fa2877d0"
   },
   "outputs": [
    {
     "name": "stdout",
     "output_type": "stream",
     "text": [
      "電影名稱（中英）： 馴龍高手3 How to Train Your Dragon 3\n",
      "上映日期：2019-01-30\n",
      "類型: 動畫,冒險\n",
      "片　　長：01時45分\n",
      "導演: 迪恩戴布洛伊(DeanDeBlois)\n",
      "演員: 凱特布蘭琪(CateBlanchett) 、 傑瑞德巴特勒(GerardButler) 、 喬納希爾(JonahHill) 、 克莉絲汀薇格(KristenWiig) 、 克里斯多福米茲布拉斯(ChristopherMintz-Plasse)\n",
      "發行公司：環球影業\n",
      "IMDb分數：7.9\n",
      "劇情介紹: \n",
      " \n",
      "夢工廠動畫即將呈獻一個關於成長、尋找勇氣面對未知事物及未來，以及什麼都無法強迫你放棄你所愛的一切，充滿驚喜的精彩故事。這個故事從一個維京族少年和一隻叫夜煞的凶猛巨龍之間，建立起令人意想不到的深厚友情之後展開，描述這對好麻吉在各自的成長歷程中，踏上一場驚險刺激、感動人心的冒險旅程。歡迎來到影史上最受喜愛的動畫系列電影之一，最精采絕倫的最終章：《馴龍高手3》。\r\n",
      " \r\n",
      "小嗝嗝和亞絲翠一起成為博克島的新族長之後，建立了一個既輝煌又混亂的龍之烏托邦。但是當一隻母“光煞”出現之後，同時博克島又面臨有史以來最可怕的威脅，小嗝嗝和沒牙就必須離開他們唯一的家園，前往一個大家都以為只存在於神話中的龍國秘境。當他們發現各自的真正使命之後，小嗝嗝這名龍騎士和他的龍沒牙，則將為了捍衛他們這一路走來所珍惜的一切，前往世界的盡頭，共同奮戰到底。\r\n",
      " \r\n",
      "《馴龍高手》系列電影導演迪恩戴布洛伊和全明星卡司再度回歸。製片是布萊德路易斯（《料理鼠王》、小蟻雄兵），以及邦妮艾諾（《玩具總動員》、《馴龍高手》、《馴龍高手2》）。\r\n",
      " \n",
      "\n"
     ]
    }
   ],
   "source": [
    "import requests\n",
    "from bs4 import BeautifulSoup\n",
    "from lxml.html.clean import unicode\n",
    "req = requests.get('https://movies.yahoo.com.tw/movieinfo_main/%E9%A6%B4%E9%BE%8D%E9%AB%98%E6%89%8B3-how-to-train-your-dragon-3-8350')\n",
    "html = req.content.decode('utf8')\n",
    "soup = BeautifulSoup(html, 'lxml')\n",
    "\n",
    "#名稱\n",
    "print('電影名稱（中英）：',soup.find('h1').string,soup.find('h3').string  )\n",
    "#上映日期\n",
    "print(soup.find('div', 'movie_intro_info_r').span.text.strip()[0:15])\n",
    "#類型\n",
    "a_tags= soup.find('div', 'level_name_box').find_all('a',{'class':'gabtn'})\n",
    "Type=[]\n",
    "for tag in a_tags:\n",
    "  b=tag.string\n",
    "  unicode_string = unicode(b.string).strip()\n",
    "  Type.extend( unicode_string.split('、')  )\n",
    "print('類型:',str(Type)[2:4]+\",\"+str(Type)[8:10]) \n",
    "#片長\n",
    "print(str(soup.select(\".movie_intro_info_r > span\")[1]).replace('<span>', '').replace('\\n','').replace(' ','').replace('</span>', ''))\n",
    "#導演 \n",
    "#演員\n",
    "Actors=[]\n",
    "for x in soup.body.find_all('div', class_='movie_intro_list'):\n",
    "  unicode_string = unicode(x.text).strip()\n",
    "  Actors.extend( unicode_string.replace('\\n','').replace(' ','').split('、')  )\n",
    "print('導演:',Actors[0]) \n",
    "print('演員:',Actors[1],'、',Actors[2], '、',Actors[3],'、',Actors[4],'、',Actors[5])\n",
    "#發行公司\n",
    "print(str(soup.select(\".movie_intro_info_r > span\")[2]).replace('<span>', '').replace('\\n','').replace(' ','').replace('</span>', ''))\n",
    "#官方網站(本片無,省略)\n",
    "#IMDb分數\n",
    "print(str(soup.select(\".movie_intro_info_r > span\")[3]).replace('<span>', '').replace('\\n','').replace(' ','').replace('</span>', ''))\n",
    "\n",
    "#劇情介紹\n",
    "print(\"劇情介紹:\",\"\\n\",str(soup.select(\"#story\")).replace('<span id=\"story\">', '').replace('</span>', '').replace(' ','')[1:-1])\n",
    "\n",
    "\n",
    "\n"
   ]
  }
 ],
 "metadata": {
  "colab": {
   "collapsed_sections": [],
   "name": "py335_黃渝玲_hw7.ipynb",
   "provenance": []
  },
  "kernelspec": {
   "display_name": "Python 3",
   "language": "python",
   "name": "python3"
  },
  "language_info": {
   "codemirror_mode": {
    "name": "ipython",
    "version": 3
   },
   "file_extension": ".py",
   "mimetype": "text/x-python",
   "name": "python",
   "nbconvert_exporter": "python",
   "pygments_lexer": "ipython3",
   "version": "3.8.10"
  }
 },
 "nbformat": 4,
 "nbformat_minor": 1
}
